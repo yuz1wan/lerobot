{
 "cells": [
  {
   "cell_type": "code",
   "execution_count": 1,
   "metadata": {},
   "outputs": [],
   "source": [
    "from lerobot.common.robot_devices.motors.dynamixel import DynamixelMotorsBus\n",
    "\n",
    "# leader_port = \"/dev/tty.usbmodem575E0031751\"\n",
    "follower_port = \"/dev/tty.usbserial-A10PCYXL\"\n",
    "\n",
    "# leader_arm = DynamixelMotorsBus(\n",
    "#     port=leader_port,\n",
    "#     motors={\n",
    "#         # name: (index, model)\n",
    "#         \"shoulder_pan\": (1, \"xl330-m077\"),\n",
    "#         \"shoulder_lift\": (2, \"xl330-m077\"),\n",
    "#         \"elbow_flex\": (3, \"xl330-m077\"),\n",
    "#         \"wrist_flex\": (4, \"xl330-m077\"),\n",
    "#         \"wrist_roll\": (5, \"xl330-m077\"),\n",
    "#         \"gripper\": (6, \"xl330-m077\"),\n",
    "#     },\n",
    "# )\n",
    "\n",
    "follower_arm = DynamixelMotorsBus(\n",
    "    port=follower_port,\n",
    "    motors={\n",
    "        # name: (index, model)\n",
    "        \"shoulder_pan\": (1, \"xl430-w250\"),\n",
    "        \"shoulder_lift\": (2, \"xl430-w250\"),\n",
    "        \"elbow_flex\": (3, \"xl330-m288\"),\n",
    "        \"wrist_flex\": (4, \"xl330-m288\"),\n",
    "        \"wrist_roll\": (5, \"xl330-m288\"),\n",
    "        \"gripper\": (6, \"xl330-m288\"),\n",
    "    },\n",
    ")\n"
   ]
  },
  {
   "cell_type": "code",
   "execution_count": 2,
   "metadata": {},
   "outputs": [
    {
     "name": "stdout",
     "output_type": "stream",
     "text": [
      "Read failed due to communication error on port /dev/tty.usbserial-A10PCYXL for group_key ID_shoulder_pan_shoulder_lift_elbow_flex_wrist_flex_wrist_roll_gripper: [TxRxResult] There is no status packet!\n",
      "\n",
      "Scanning all baudrates and motor indices\n",
      "Setting bus baud rate to 9600. Previously 1000000.\n"
     ]
    },
    {
     "name": "stderr",
     "output_type": "stream",
     "text": [
      "100%|██████████| 252/252 [00:11<00:00, 21.30it/s]\n"
     ]
    },
    {
     "name": "stdout",
     "output_type": "stream",
     "text": [
      "Setting bus baud rate to 57600. Previously 9600.\n"
     ]
    },
    {
     "name": "stderr",
     "output_type": "stream",
     "text": [
      "100%|██████████| 252/252 [00:09<00:00, 27.44it/s]\n"
     ]
    },
    {
     "name": "stdout",
     "output_type": "stream",
     "text": [
      "Setting bus baud rate to 1000000. Previously 57600.\n"
     ]
    },
    {
     "name": "stderr",
     "output_type": "stream",
     "text": [
      "100%|██████████| 252/252 [00:08<00:00, 29.19it/s]\n"
     ]
    },
    {
     "name": "stdout",
     "output_type": "stream",
     "text": [
      "Setting bus baud rate to 2000000. Previously 1000000.\n"
     ]
    },
    {
     "name": "stderr",
     "output_type": "stream",
     "text": [
      "100%|██████████| 252/252 [00:08<00:00, 29.09it/s]\n"
     ]
    },
    {
     "name": "stdout",
     "output_type": "stream",
     "text": [
      "Setting bus baud rate to 115200. Previously 2000000.\n"
     ]
    },
    {
     "name": "stderr",
     "output_type": "stream",
     "text": [
      "100%|██████████| 252/252 [00:08<00:00, 28.32it/s]\n"
     ]
    },
    {
     "name": "stdout",
     "output_type": "stream",
     "text": [
      "Setting bus baud rate to 3000000. Previously 115200.\n"
     ]
    },
    {
     "name": "stderr",
     "output_type": "stream",
     "text": [
      "100%|██████████| 252/252 [00:08<00:00, 29.11it/s]\n"
     ]
    },
    {
     "name": "stdout",
     "output_type": "stream",
     "text": [
      "Skipping baudrate 4000000 for MacOS\n",
      "Motor indices detected: {1000000: [0, 2, 3, 4, 6, 7]}\n",
      "\n",
      "\n",
      "Scanning possible baudrates and motor indices\n"
     ]
    },
    {
     "name": "stderr",
     "output_type": "stream",
     "text": [
      "100%|██████████| 6/6 [00:00<00:00, 33.88it/s]\n"
     ]
    },
    {
     "name": "stdout",
     "output_type": "stream",
     "text": [
      "Detected motor with index 0\n",
      "Setting its index to a temporary untaken index (8)\n",
      "\n",
      "\n",
      "Scanning possible baudrates and motor indices\n"
     ]
    },
    {
     "name": "stderr",
     "output_type": "stream",
     "text": [
      "100%|██████████| 6/6 [00:00<00:00, 32.49it/s]\n"
     ]
    },
    {
     "name": "stdout",
     "output_type": "stream",
     "text": [
      "Detected motor with index 2\n",
      "Setting its index to a temporary untaken index (9)\n",
      "\n",
      "\n",
      "Scanning possible baudrates and motor indices\n"
     ]
    },
    {
     "name": "stderr",
     "output_type": "stream",
     "text": [
      "100%|██████████| 6/6 [00:00<00:00, 32.97it/s]\n"
     ]
    },
    {
     "name": "stdout",
     "output_type": "stream",
     "text": [
      "Detected motor with index 3\n",
      "Setting its index to a temporary untaken index (10)\n",
      "\n",
      "\n",
      "Scanning possible baudrates and motor indices\n"
     ]
    },
    {
     "name": "stderr",
     "output_type": "stream",
     "text": [
      "100%|██████████| 6/6 [00:00<00:00, 33.47it/s]\n"
     ]
    },
    {
     "name": "stdout",
     "output_type": "stream",
     "text": [
      "Detected motor with index 4\n",
      "Setting its index to a temporary untaken index (11)\n",
      "\n",
      "\n",
      "Scanning possible baudrates and motor indices\n"
     ]
    },
    {
     "name": "stderr",
     "output_type": "stream",
     "text": [
      "100%|██████████| 6/6 [00:00<00:00, 34.01it/s]\n"
     ]
    },
    {
     "name": "stdout",
     "output_type": "stream",
     "text": [
      "Detected motor with index 6\n",
      "Setting its index to a temporary untaken index (12)\n",
      "\n",
      "\n",
      "Scanning possible baudrates and motor indices\n"
     ]
    },
    {
     "name": "stderr",
     "output_type": "stream",
     "text": [
      "100%|██████████| 6/6 [00:00<00:00, 31.40it/s]\n"
     ]
    },
    {
     "name": "stdout",
     "output_type": "stream",
     "text": [
      "Detected motor with index 7\n",
      "Setting its index to a temporary untaken index (13)\n",
      "\n",
      "Setting expected motor indices: [1, 2, 3, 4, 5, 6]\n",
      "\n",
      "Configuration is done!\n"
     ]
    }
   ],
   "source": [
    "follower_arm.connect()"
   ]
  },
  {
   "cell_type": "code",
   "execution_count": 3,
   "metadata": {},
   "outputs": [
    {
     "name": "stdout",
     "output_type": "stream",
     "text": [
      "[2139 2252 1936 2264  134 2701]\n"
     ]
    }
   ],
   "source": [
    "follower_pos = follower_arm.read(\"Present_Position\")\n",
    "print(follower_pos)"
   ]
  },
  {
   "cell_type": "code",
   "execution_count": 4,
   "metadata": {},
   "outputs": [],
   "source": [
    "from lerobot.common.robot_devices.motors.dynamixel import TorqueMode\n",
    "\n",
    "follower_arm.write(\"Torque_Enable\", TorqueMode.ENABLED.value)"
   ]
  },
  {
   "cell_type": "code",
   "execution_count": 16,
   "metadata": {},
   "outputs": [],
   "source": [
    "# Get the current position\n",
    "position = follower_arm.read(\"Present_Position\")\n",
    "\n",
    "# Update first motor (shoulder_pan) position by +10 steps\n",
    "position[0] += 10\n",
    "follower_arm.write(\"Goal_Position\", position)\n",
    "\n",
    "\n"
   ]
  },
  {
   "cell_type": "code",
   "execution_count": 26,
   "metadata": {},
   "outputs": [],
   "source": [
    "# Update all motors position by -30 steps\n",
    "position -= 30\n",
    "follower_arm.write(\"Goal_Position\", position)\n",
    "\n",
    "# Update gripper by +30 steps\n",
    "position[-1] += 30\n",
    "follower_arm.write(\"Goal_Position\", position[-1], \"gripper\")"
   ]
  },
  {
   "cell_type": "code",
   "execution_count": 27,
   "metadata": {},
   "outputs": [],
   "source": [
    "follower_arm.write(\"Torque_Enable\", TorqueMode.DISABLED.value)"
   ]
  },
  {
   "cell_type": "code",
   "execution_count": 28,
   "metadata": {},
   "outputs": [],
   "source": [
    "follower_arm.disconnect()"
   ]
  },
  {
   "cell_type": "code",
   "execution_count": 2,
   "metadata": {},
   "outputs": [],
   "source": [
    "from lerobot.common.robot_devices.robots.manipulator import ManipulatorRobot\n",
    "\n",
    "robot = ManipulatorRobot(\n",
    "    robot_type=\"koch\",\n",
    "    # leader_arms={\"main\": leader_arm},\n",
    "    follower_arms={\"main\": follower_arm},\n",
    "    calibration_dir=\".cache/calibration/koch\",\n",
    ")"
   ]
  },
  {
   "cell_type": "code",
   "execution_count": 3,
   "metadata": {},
   "outputs": [
    {
     "name": "stdout",
     "output_type": "stream",
     "text": [
      "Connecting main follower arm.\n",
      "Missing calibration file '.cache/calibration/koch/main_follower.json'\n",
      "\n",
      "Running calibration of koch main follower...\n",
      "\n",
      "Move arm to zero position\n",
      "See: https://raw.githubusercontent.com/huggingface/lerobot/main/media/koch/follower_zero.webp\n",
      "\n",
      "Move arm to rotated target position\n",
      "See: https://raw.githubusercontent.com/huggingface/lerobot/main/media/koch/follower_rotated.webp\n",
      "\n",
      "Move arm to rest position\n",
      "See: https://raw.githubusercontent.com/huggingface/lerobot/main/media/koch/follower_rest.webp\n",
      "\n",
      "Calibration is done! Saving calibration file '.cache/calibration/koch/main_follower.json'\n",
      "Activating torque on main follower arm.\n"
     ]
    }
   ],
   "source": [
    "robot.connect()"
   ]
  },
  {
   "cell_type": "code",
   "execution_count": 4,
   "metadata": {},
   "outputs": [
    {
     "name": "stderr",
     "output_type": "stream",
     "text": [
      "2024-09-10 20:17:18.165 python[73509:8350236] WARNING: AVCaptureDeviceTypeExternal is deprecated for Continuity Cameras. Please use AVCaptureDeviceTypeContinuityCamera and add NSCameraUseContinuityCameraDeviceType to your Info.plist.\n"
     ]
    },
    {
     "name": "stdout",
     "output_type": "stream",
     "text": [
      "(720, 1280, 3)\n",
      "uint8\n"
     ]
    }
   ],
   "source": [
    "from lerobot.common.robot_devices.cameras.opencv import OpenCVCamera\n",
    "\n",
    "camera = OpenCVCamera(camera_index=1)\n",
    "camera.connect()\n",
    "color_image = camera.read()\n",
    "\n",
    "print(color_image.shape)\n",
    "print(color_image.dtype)"
   ]
  },
  {
   "cell_type": "code",
   "execution_count": 4,
   "metadata": {},
   "outputs": [
    {
     "ename": "RobotDeviceNotConnectedError",
     "evalue": "ManipulatorRobot is not connected. You need to run `robot.connect()` before disconnecting.",
     "output_type": "error",
     "traceback": [
      "\u001b[0;31m---------------------------------------------------------------------------\u001b[0m",
      "\u001b[0;31mRobotDeviceNotConnectedError\u001b[0m              Traceback (most recent call last)",
      "Cell \u001b[0;32mIn[4], line 1\u001b[0m\n\u001b[0;32m----> 1\u001b[0m \u001b[43mrobot\u001b[49m\u001b[38;5;241;43m.\u001b[39;49m\u001b[43mdisconnect\u001b[49m\u001b[43m(\u001b[49m\u001b[43m)\u001b[49m\n",
      "File \u001b[0;32m~/Documents/Coding/lerobot/lerobot/common/robot_devices/robots/manipulator.py:686\u001b[0m, in \u001b[0;36mManipulatorRobot.disconnect\u001b[0;34m(self)\u001b[0m\n\u001b[1;32m    684\u001b[0m \u001b[38;5;28;01mdef\u001b[39;00m \u001b[38;5;21mdisconnect\u001b[39m(\u001b[38;5;28mself\u001b[39m):\n\u001b[1;32m    685\u001b[0m     \u001b[38;5;28;01mif\u001b[39;00m \u001b[38;5;129;01mnot\u001b[39;00m \u001b[38;5;28mself\u001b[39m\u001b[38;5;241m.\u001b[39mis_connected:\n\u001b[0;32m--> 686\u001b[0m         \u001b[38;5;28;01mraise\u001b[39;00m RobotDeviceNotConnectedError(\n\u001b[1;32m    687\u001b[0m             \u001b[38;5;124m\"\u001b[39m\u001b[38;5;124mManipulatorRobot is not connected. You need to run `robot.connect()` before disconnecting.\u001b[39m\u001b[38;5;124m\"\u001b[39m\n\u001b[1;32m    688\u001b[0m         )\n\u001b[1;32m    690\u001b[0m     \u001b[38;5;28;01mfor\u001b[39;00m name \u001b[38;5;129;01min\u001b[39;00m \u001b[38;5;28mself\u001b[39m\u001b[38;5;241m.\u001b[39mfollower_arms:\n\u001b[1;32m    691\u001b[0m         \u001b[38;5;28mself\u001b[39m\u001b[38;5;241m.\u001b[39mfollower_arms[name]\u001b[38;5;241m.\u001b[39mdisconnect()\n",
      "\u001b[0;31mRobotDeviceNotConnectedError\u001b[0m: ManipulatorRobot is not connected. You need to run `robot.connect()` before disconnecting."
     ]
    }
   ],
   "source": [
    "robot.disconnect()"
   ]
  },
  {
   "cell_type": "code",
   "execution_count": 2,
   "metadata": {},
   "outputs": [
    {
     "name": "stdout",
     "output_type": "stream",
     "text": [
      "Connecting main follower arm.\n",
      "Read failed due to communication error on port /dev/tty.usbserial-A10PCYXL for group_key ID_shoulder_pan_shoulder_lift_elbow_flex_wrist_flex_wrist_roll_gripper: [TxRxResult] There is no status packet!\n",
      "\n",
      "Scanning all baudrates and motor indices\n",
      "Setting bus baud rate to 9600. Previously 1000000.\n"
     ]
    },
    {
     "name": "stderr",
     "output_type": "stream",
     "text": [
      "100%|██████████| 252/252 [00:11<00:00, 21.39it/s]\n"
     ]
    },
    {
     "name": "stdout",
     "output_type": "stream",
     "text": [
      "Setting bus baud rate to 57600. Previously 9600.\n"
     ]
    },
    {
     "name": "stderr",
     "output_type": "stream",
     "text": [
      "100%|██████████| 252/252 [00:09<00:00, 27.52it/s]\n"
     ]
    },
    {
     "name": "stdout",
     "output_type": "stream",
     "text": [
      "Setting bus baud rate to 1000000. Previously 57600.\n"
     ]
    },
    {
     "name": "stderr",
     "output_type": "stream",
     "text": [
      "100%|██████████| 252/252 [00:08<00:00, 29.54it/s]\n"
     ]
    },
    {
     "name": "stdout",
     "output_type": "stream",
     "text": [
      "Setting bus baud rate to 2000000. Previously 1000000.\n"
     ]
    },
    {
     "name": "stderr",
     "output_type": "stream",
     "text": [
      "100%|██████████| 252/252 [00:08<00:00, 29.07it/s]\n"
     ]
    },
    {
     "name": "stdout",
     "output_type": "stream",
     "text": [
      "Setting bus baud rate to 115200. Previously 2000000.\n"
     ]
    },
    {
     "name": "stderr",
     "output_type": "stream",
     "text": [
      "100%|██████████| 252/252 [00:08<00:00, 28.34it/s]\n"
     ]
    },
    {
     "name": "stdout",
     "output_type": "stream",
     "text": [
      "Setting bus baud rate to 3000000. Previously 115200.\n"
     ]
    },
    {
     "name": "stderr",
     "output_type": "stream",
     "text": [
      "100%|██████████| 252/252 [00:08<00:00, 29.17it/s]\n"
     ]
    },
    {
     "name": "stdout",
     "output_type": "stream",
     "text": [
      "Skipping baudrate 4000000 for MacOS\n",
      "Motor indices detected: {1000000: [0, 6, 7, 8, 9, 10]}\n",
      "\n",
      "\n",
      "Scanning possible baudrates and motor indices\n"
     ]
    },
    {
     "name": "stderr",
     "output_type": "stream",
     "text": [
      "100%|██████████| 6/6 [00:00<00:00, 32.92it/s]"
     ]
    },
    {
     "name": "stdout",
     "output_type": "stream",
     "text": [
      "Detected motor with index 0\n",
      "Setting its index to a temporary untaken index (11)\n"
     ]
    },
    {
     "name": "stderr",
     "output_type": "stream",
     "text": [
      "\n"
     ]
    },
    {
     "name": "stdout",
     "output_type": "stream",
     "text": [
      "\n",
      "\n",
      "Scanning possible baudrates and motor indices\n"
     ]
    },
    {
     "name": "stderr",
     "output_type": "stream",
     "text": [
      "100%|██████████| 6/6 [00:00<00:00, 32.95it/s]"
     ]
    },
    {
     "name": "stdout",
     "output_type": "stream",
     "text": [
      "Detected motor with index 7\n",
      "Setting its index to a temporary untaken index (12)\n"
     ]
    },
    {
     "name": "stderr",
     "output_type": "stream",
     "text": [
      "\n"
     ]
    },
    {
     "name": "stdout",
     "output_type": "stream",
     "text": [
      "\n",
      "\n",
      "Scanning possible baudrates and motor indices\n"
     ]
    },
    {
     "name": "stderr",
     "output_type": "stream",
     "text": [
      "100%|██████████| 6/6 [00:00<00:00, 33.40it/s]\n"
     ]
    },
    {
     "name": "stdout",
     "output_type": "stream",
     "text": [
      "Detected motor with index 8\n",
      "Setting its index to a temporary untaken index (13)\n",
      "\n",
      "\n",
      "Scanning possible baudrates and motor indices\n"
     ]
    },
    {
     "name": "stderr",
     "output_type": "stream",
     "text": [
      "100%|██████████| 6/6 [00:00<00:00, 33.81it/s]"
     ]
    },
    {
     "name": "stdout",
     "output_type": "stream",
     "text": [
      "Detected motor with index 9\n",
      "Setting its index to a temporary untaken index (14)\n"
     ]
    },
    {
     "name": "stderr",
     "output_type": "stream",
     "text": [
      "\n"
     ]
    },
    {
     "name": "stdout",
     "output_type": "stream",
     "text": [
      "\n",
      "\n",
      "Scanning possible baudrates and motor indices\n"
     ]
    },
    {
     "name": "stderr",
     "output_type": "stream",
     "text": [
      "100%|██████████| 6/6 [00:00<00:00, 34.26it/s]"
     ]
    },
    {
     "name": "stdout",
     "output_type": "stream",
     "text": [
      "Detected motor with index 10\n",
      "Setting its index to a temporary untaken index (15)\n"
     ]
    },
    {
     "name": "stderr",
     "output_type": "stream",
     "text": [
      "\n"
     ]
    },
    {
     "name": "stdout",
     "output_type": "stream",
     "text": [
      "\n",
      "\n",
      "Scanning possible baudrates and motor indices\n"
     ]
    },
    {
     "name": "stderr",
     "output_type": "stream",
     "text": [
      "100%|██████████| 6/6 [00:00<00:00, 32.55it/s]\n"
     ]
    },
    {
     "name": "stdout",
     "output_type": "stream",
     "text": [
      "Detected motor with index 6\n",
      "Setting its index to a temporary untaken index (16)\n",
      "\n",
      "Setting expected motor indices: [1, 2, 3, 4, 5, 6]\n",
      "\n",
      "Configuration is done!\n",
      "Missing calibration file '.cache/calibration/koch/main_follower.json'\n",
      "\n",
      "Running calibration of None main follower...\n",
      "\n",
      "Move arm to zero position\n",
      "See: https://raw.githubusercontent.com/huggingface/lerobot/main/media/None/follower_zero.webp\n",
      "\n",
      "Move arm to rotated target position\n",
      "See: https://raw.githubusercontent.com/huggingface/lerobot/main/media/None/follower_rotated.webp\n",
      "\n",
      "Move arm to rest position\n",
      "See: https://raw.githubusercontent.com/huggingface/lerobot/main/media/None/follower_rest.webp\n",
      "\n",
      "Calibration is done! Saving calibration file '.cache/calibration/koch/main_follower.json'\n",
      "Activating torque on main follower arm.\n"
     ]
    },
    {
     "name": "stderr",
     "output_type": "stream",
     "text": [
      "/Users/wangxiaoyi/Documents/Coding/lerobot/lerobot/common/robot_devices/robots/manipulator.py:385: UserWarning: No preset found for robot type: None\n",
      "  warnings.warn(f\"No preset found for robot type: {self.robot_type}\", stacklevel=1)\n",
      "2024-09-10 20:39:53.219 python[86670:8397386] WARNING: AVCaptureDeviceTypeExternal is deprecated for Continuity Cameras. Please use AVCaptureDeviceTypeContinuityCamera and add NSCameraUseContinuityCameraDeviceType to your Info.plist.\n"
     ]
    }
   ],
   "source": [
    "from lerobot.common.robot_devices.robots.manipulator import ManipulatorRobot\n",
    "from lerobot.common.robot_devices.cameras.opencv import OpenCVCamera\n",
    "\n",
    "robot = ManipulatorRobot(\n",
    "    follower_arms={\"main\": follower_arm},\n",
    "    calibration_dir=\".cache/calibration/koch\",\n",
    "    cameras={\n",
    "        \"laptop\": OpenCVCamera(1, fps=30, width=640, height=480),\n",
    "        \"phone\": OpenCVCamera(0, fps=30, width=640, height=480),\n",
    "    },\n",
    ")\n",
    "robot.connect()"
   ]
  },
  {
   "cell_type": "code",
   "execution_count": 4,
   "metadata": {},
   "outputs": [
    {
     "name": "stdout",
     "output_type": "stream",
     "text": [
      "torch.Size([480, 640, 3])\n",
      "torch.Size([480, 640, 3])\n",
      "0\n",
      "255\n"
     ]
    }
   ],
   "source": [
    "observation = robot.capture_observation()\n",
    "print(observation[\"observation.images.laptop\"].shape)\n",
    "print(observation[\"observation.images.phone\"].shape)\n",
    "print(observation[\"observation.images.laptop\"].min().item())\n",
    "print(observation[\"observation.images.laptop\"].max().item())"
   ]
  },
  {
   "cell_type": "code",
   "execution_count": 5,
   "metadata": {},
   "outputs": [],
   "source": [
    "robot.disconnect()"
   ]
  }
 ],
 "metadata": {
  "kernelspec": {
   "display_name": "lerobot",
   "language": "python",
   "name": "python3"
  },
  "language_info": {
   "codemirror_mode": {
    "name": "ipython",
    "version": 3
   },
   "file_extension": ".py",
   "mimetype": "text/x-python",
   "name": "python",
   "nbconvert_exporter": "python",
   "pygments_lexer": "ipython3",
   "version": "3.10.14"
  }
 },
 "nbformat": 4,
 "nbformat_minor": 2
}
