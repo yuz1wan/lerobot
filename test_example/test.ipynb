{
 "cells": [
  {
   "cell_type": "code",
   "execution_count": 1,
   "metadata": {},
   "outputs": [],
   "source": [
    "from lerobot.common.robot_devices.motors.dynamixel import DynamixelMotorsBus\n",
    "\n",
    "# leader_port = \"/dev/tty.usbmodem575E0031751\"\n",
    "follower_port = \"/dev/tty.usbserial-A10PCYXL\"\n",
    "\n",
    "# leader_arm = DynamixelMotorsBus(\n",
    "#     port=leader_port,\n",
    "#     motors={\n",
    "#         # name: (index, model)\n",
    "#         \"shoulder_pan\": (1, \"xl330-m077\"),\n",
    "#         \"shoulder_lift\": (2, \"xl330-m077\"),\n",
    "#         \"elbow_flex\": (3, \"xl330-m077\"),\n",
    "#         \"wrist_flex\": (4, \"xl330-m077\"),\n",
    "#         \"wrist_roll\": (5, \"xl330-m077\"),\n",
    "#         \"gripper\": (6, \"xl330-m077\"),\n",
    "#     },\n",
    "# )\n",
    "\n",
    "follower_arm = DynamixelMotorsBus(\n",
    "    port=follower_port,\n",
    "    motors={\n",
    "        # name: (index, model)\n",
    "        \"shoulder_pan\": (1, \"xl430-w250\"),\n",
    "        \"shoulder_lift\": (2, \"xl430-w250\"),\n",
    "        \"elbow_flex\": (3, \"xl330-m288\"),\n",
    "        \"wrist_flex\": (4, \"xl330-m288\"),\n",
    "        \"wrist_roll\": (5, \"xl330-m288\"),\n",
    "        \"gripper\": (6, \"xl330-m288\"),\n",
    "    },\n",
    ")\n"
   ]
  },
  {
   "cell_type": "code",
   "execution_count": 2,
   "metadata": {},
   "outputs": [
    {
     "name": "stdout",
     "output_type": "stream",
     "text": [
      "Connecting main follower arm.\n",
      "Missing calibration file '../.cache/calibration/koch/main_follower.json'\n",
      "\n",
      "Running calibration of None main follower...\n",
      "\n",
      "Move arm to zero position\n",
      "See: https://raw.githubusercontent.com/huggingface/lerobot/main/media/None/follower_zero.webp\n",
      "\n",
      "Move arm to rotated target position\n",
      "See: https://raw.githubusercontent.com/huggingface/lerobot/main/media/None/follower_rotated.webp\n",
      "\n",
      "Move arm to rest position\n",
      "See: https://raw.githubusercontent.com/huggingface/lerobot/main/media/None/follower_rest.webp\n",
      "\n",
      "Calibration is done! Saving calibration file '../.cache/calibration/koch/main_follower.json'\n",
      "Activating torque on main follower arm.\n"
     ]
    },
    {
     "name": "stderr",
     "output_type": "stream",
     "text": [
      "/Users/wangxiaoyi/Documents/Coding/lerobot/lerobot/common/robot_devices/robots/manipulator.py:385: UserWarning: No preset found for robot type: None\n",
      "  warnings.warn(f\"No preset found for robot type: {self.robot_type}\", stacklevel=1)\n",
      "2024-09-11 14:41:00.371 python[63453:10639388] WARNING: AVCaptureDeviceTypeExternal is deprecated for Continuity Cameras. Please use AVCaptureDeviceTypeContinuityCamera and add NSCameraUseContinuityCameraDeviceType to your Info.plist.\n"
     ]
    }
   ],
   "source": [
    "from lerobot.common.robot_devices.robots.manipulator import ManipulatorRobot\n",
    "from lerobot.common.robot_devices.cameras.opencv import OpenCVCamera\n",
    "\n",
    "robot = ManipulatorRobot(\n",
    "    follower_arms={\"main\": follower_arm},\n",
    "    calibration_dir=\"../.cache/calibration/koch\",\n",
    "    cameras={\n",
    "        \"laptop\": OpenCVCamera(1, fps=30, width=640, height=480),\n",
    "        \"phone\": OpenCVCamera(0, fps=30, width=640, height=480),\n",
    "    },\n",
    ")\n",
    "robot.connect()"
   ]
  },
  {
   "cell_type": "code",
   "execution_count": 8,
   "metadata": {},
   "outputs": [],
   "source": [
    "robot.disconnect()"
   ]
  },
  {
   "cell_type": "code",
   "execution_count": 4,
   "metadata": {},
   "outputs": [],
   "source": [
    "from lerobot.common.robot_devices.motors.dynamixel import TorqueMode\n",
    "robot.follower_arms[\"main\"].write(\"Torque_Enable\", TorqueMode.DISABLED.value)"
   ]
  },
  {
   "cell_type": "code",
   "execution_count": 7,
   "metadata": {},
   "outputs": [
    {
     "name": "stdout",
     "output_type": "stream",
     "text": [
      "[ -2.3730469 126.91406   176.57227    -9.228516   -2.9882812  42.36328  ]\n"
     ]
    }
   ],
   "source": [
    "from lerobot.common.robot_devices.motors.dynamixel import TorqueMode\n",
    "pos= robot.follower_arms[\"main\"].read(\"Present_Position\")\n",
    "print(pos)"
   ]
  },
  {
   "cell_type": "code",
   "execution_count": 3,
   "metadata": {},
   "outputs": [
    {
     "ename": "ValueError",
     "evalue": "To run set robot preset, the torque must be disabled on all motors.",
     "output_type": "error",
     "traceback": [
      "\u001b[0;31m---------------------------------------------------------------------------\u001b[0m",
      "\u001b[0;31mValueError\u001b[0m                                Traceback (most recent call last)",
      "Cell \u001b[0;32mIn[3], line 1\u001b[0m\n\u001b[0;32m----> 1\u001b[0m \u001b[43mrobot\u001b[49m\u001b[38;5;241;43m.\u001b[39;49m\u001b[43mset_koch_robot_preset\u001b[49m\u001b[43m(\u001b[49m\u001b[43m)\u001b[49m\n",
      "File \u001b[0;32m~/Documents/Coding/lerobot/lerobot/common/robot_devices/robots/manipulator.py:459\u001b[0m, in \u001b[0;36mManipulatorRobot.set_koch_robot_preset\u001b[0;34m(self)\u001b[0m\n\u001b[1;32m    456\u001b[0m     arm\u001b[38;5;241m.\u001b[39mwrite(\u001b[38;5;124m\"\u001b[39m\u001b[38;5;124mOperating_Mode\u001b[39m\u001b[38;5;124m\"\u001b[39m, \u001b[38;5;241m5\u001b[39m, \u001b[38;5;124m\"\u001b[39m\u001b[38;5;124mgripper\u001b[39m\u001b[38;5;124m\"\u001b[39m)\n\u001b[1;32m    458\u001b[0m \u001b[38;5;28;01mfor\u001b[39;00m name \u001b[38;5;129;01min\u001b[39;00m \u001b[38;5;28mself\u001b[39m\u001b[38;5;241m.\u001b[39mfollower_arms:\n\u001b[0;32m--> 459\u001b[0m     \u001b[43mset_operating_mode_\u001b[49m\u001b[43m(\u001b[49m\u001b[38;5;28;43mself\u001b[39;49m\u001b[38;5;241;43m.\u001b[39;49m\u001b[43mfollower_arms\u001b[49m\u001b[43m[\u001b[49m\u001b[43mname\u001b[49m\u001b[43m]\u001b[49m\u001b[43m)\u001b[49m\n\u001b[1;32m    461\u001b[0m     \u001b[38;5;66;03m# Set better PID values to close the gap between recorded states and actions\u001b[39;00m\n\u001b[1;32m    462\u001b[0m     \u001b[38;5;66;03m# TODO(rcadene): Implement an automatic procedure to set optimial PID values for each motor\u001b[39;00m\n\u001b[1;32m    463\u001b[0m     \u001b[38;5;28mself\u001b[39m\u001b[38;5;241m.\u001b[39mfollower_arms[name]\u001b[38;5;241m.\u001b[39mwrite(\u001b[38;5;124m\"\u001b[39m\u001b[38;5;124mPosition_P_Gain\u001b[39m\u001b[38;5;124m\"\u001b[39m, \u001b[38;5;241m1500\u001b[39m, \u001b[38;5;124m\"\u001b[39m\u001b[38;5;124melbow_flex\u001b[39m\u001b[38;5;124m\"\u001b[39m)\n",
      "File \u001b[0;32m~/Documents/Coding/lerobot/lerobot/common/robot_devices/robots/manipulator.py:439\u001b[0m, in \u001b[0;36mManipulatorRobot.set_koch_robot_preset.<locals>.set_operating_mode_\u001b[0;34m(arm)\u001b[0m\n\u001b[1;32m    437\u001b[0m \u001b[38;5;28;01mdef\u001b[39;00m \u001b[38;5;21mset_operating_mode_\u001b[39m(arm):\n\u001b[1;32m    438\u001b[0m     \u001b[38;5;28;01mif\u001b[39;00m (arm\u001b[38;5;241m.\u001b[39mread(\u001b[38;5;124m\"\u001b[39m\u001b[38;5;124mTorque_Enable\u001b[39m\u001b[38;5;124m\"\u001b[39m) \u001b[38;5;241m!=\u001b[39m TorqueMode\u001b[38;5;241m.\u001b[39mDISABLED\u001b[38;5;241m.\u001b[39mvalue)\u001b[38;5;241m.\u001b[39many():\n\u001b[0;32m--> 439\u001b[0m         \u001b[38;5;28;01mraise\u001b[39;00m \u001b[38;5;167;01mValueError\u001b[39;00m(\u001b[38;5;124m\"\u001b[39m\u001b[38;5;124mTo run set robot preset, the torque must be disabled on all motors.\u001b[39m\u001b[38;5;124m\"\u001b[39m)\n\u001b[1;32m    441\u001b[0m     \u001b[38;5;66;03m# Use 'extended position mode' for all motors except gripper, because in joint mode the servos can't\u001b[39;00m\n\u001b[1;32m    442\u001b[0m     \u001b[38;5;66;03m# rotate more than 360 degrees (from 0 to 4095) And some mistake can happen while assembling the arm,\u001b[39;00m\n\u001b[1;32m    443\u001b[0m     \u001b[38;5;66;03m# you could end up with a servo with a position 0 or 4095 at a crucial point See [\u001b[39;00m\n\u001b[1;32m    444\u001b[0m     \u001b[38;5;66;03m# https://emanual.robotis.com/docs/en/dxl/x/x_series/#operating-mode11]\u001b[39;00m\n\u001b[1;32m    445\u001b[0m     all_motors_except_gripper \u001b[38;5;241m=\u001b[39m [name \u001b[38;5;28;01mfor\u001b[39;00m name \u001b[38;5;129;01min\u001b[39;00m arm\u001b[38;5;241m.\u001b[39mmotor_names \u001b[38;5;28;01mif\u001b[39;00m name \u001b[38;5;241m!=\u001b[39m \u001b[38;5;124m\"\u001b[39m\u001b[38;5;124mgripper\u001b[39m\u001b[38;5;124m\"\u001b[39m]\n",
      "\u001b[0;31mValueError\u001b[0m: To run set robot preset, the torque must be disabled on all motors."
     ]
    }
   ],
   "source": [
    "robot.set_koch_robot_preset()"
   ]
  }
 ],
 "metadata": {
  "kernelspec": {
   "display_name": "lerobot",
   "language": "python",
   "name": "python3"
  },
  "language_info": {
   "codemirror_mode": {
    "name": "ipython",
    "version": 3
   },
   "file_extension": ".py",
   "mimetype": "text/x-python",
   "name": "python",
   "nbconvert_exporter": "python",
   "pygments_lexer": "ipython3",
   "version": "3.10.14"
  }
 },
 "nbformat": 4,
 "nbformat_minor": 2
}
